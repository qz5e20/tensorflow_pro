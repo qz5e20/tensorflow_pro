{
 "cells": [
  {
   "cell_type": "markdown",
   "id": "dc6bba74",
   "metadata": {},
   "source": [
    "### RNN / LSTM 知识背景补充：\n",
    "\n",
    "* 1. 参考资源：http://karpathy.github.io/2015/05/21/rnn-effectiveness/ ;\n"
   ]
  },
  {
   "cell_type": "markdown",
   "id": "aa47b826",
   "metadata": {},
   "source": [
    "### 实现思路\n",
    "* 第1步：数据文件加载、预处理、可视化；\n",
    "* 第2步：特征工程（构建数据集）；\n",
    "* 第3步：模型搭建；\n",
    "* 第4步：模型编译、训练；\n",
    "* 第5步：模型保存；¶\n",
    "* 第6步：模型预测；"
   ]
  },
  {
   "cell_type": "code",
   "execution_count": 1,
   "id": "6ffad41e",
   "metadata": {},
   "outputs": [],
   "source": [
    "import numpy as np\n",
    "import pandas as pd\n",
    "import matplotlib.pyplot as plt\n",
    "import seaborn as sns\n",
    "import requests\n",
    "\n",
    "import tensorflow as tf\n",
    "from tensorflow.keras import Sequential, layers, utils\n",
    "\n",
    "import warnings\n",
    "warnings.filterwarnings(\"ignore\")"
   ]
  },
  {
   "cell_type": "markdown",
   "id": "f3e7a0f4",
   "metadata": {},
   "source": [
    "### 第1步：数据文件加载、预处理、可视化"
   ]
  },
  {
   "cell_type": "code",
   "execution_count": 2,
   "id": "9d87c66d",
   "metadata": {},
   "outputs": [],
   "source": [
    "# 文件的url\n",
    "url = \"https://cs.stanford.edu/people/karpathy/char-rnn/warpeace_input.txt\""
   ]
  },
  {
   "cell_type": "code",
   "execution_count": 3,
   "id": "8a54fd72",
   "metadata": {},
   "outputs": [],
   "source": [
    "# 根据url下载文件\n",
    "file = requests.get(url)"
   ]
  },
  {
   "cell_type": "code",
   "execution_count": 4,
   "id": "a507a4a0",
   "metadata": {},
   "outputs": [],
   "source": [
    "# 获取到文本内容\n",
    "content = file.text"
   ]
  },
  {
   "cell_type": "code",
   "execution_count": 5,
   "id": "6665c705",
   "metadata": {},
   "outputs": [
    {
     "data": {
      "text/plain": [
       "3258246"
      ]
     },
     "execution_count": 5,
     "metadata": {},
     "output_type": "execute_result"
    }
   ],
   "source": [
    "# 总共包含的字符\n",
    "len(content)"
   ]
  },
  {
   "cell_type": "code",
   "execution_count": 6,
   "id": "a726d503",
   "metadata": {},
   "outputs": [
    {
     "data": {
      "text/plain": [
       "['!', 'V', '9', 'g', 'b', 'E', 'j', ' ', '4', '¿']"
      ]
     },
     "execution_count": 6,
     "metadata": {},
     "output_type": "execute_result"
    }
   ],
   "source": [
    "# 不同的字符\n",
    "unique_chars = list(set(content))\n",
    "\n",
    "unique_chars[:10]"
   ]
  },
  {
   "cell_type": "code",
   "execution_count": 7,
   "id": "8e275a6e",
   "metadata": {},
   "outputs": [
    {
     "data": {
      "text/plain": [
       "87"
      ]
     },
     "execution_count": 7,
     "metadata": {},
     "output_type": "execute_result"
    }
   ],
   "source": [
    "# 不同的字符的数量\n",
    "unique_chars_length = len(unique_chars)\n",
    "\n",
    "unique_chars_length"
   ]
  },
  {
   "cell_type": "code",
   "execution_count": 8,
   "id": "f0046100",
   "metadata": {},
   "outputs": [
    {
     "data": {
      "image/png": "[encoded data removed]",
      "text/plain": [
       "<Figure size 1152x576 with 1 Axes>"
      ]
     },
     "metadata": {
      "needs_background": "light"
     },
     "output_type": "display_data"
    }
   ],
   "source": [
    "# 统计每个字符出现的频次\n",
    "plt.figure(figsize=(16,8))\n",
    "sns.countplot(list(content))\n",
    "plt.show()"
   ]
  },
  {
   "cell_type": "code",
   "execution_count": 9,
   "id": "20a3408f",
   "metadata": {
    "scrolled": true
   },
   "outputs": [
    {
     "data": {
      "text/plain": [
       "['\\n',\n",
       " '\\r',\n",
       " ' ',\n",
       " '!',\n",
       " '\"',\n",
       " \"'\",\n",
       " '(',\n",
       " ')',\n",
       " '*',\n",
       " ',',\n",
       " '-',\n",
       " '.',\n",
       " '/',\n",
       " '0',\n",
       " '1',\n",
       " '2',\n",
       " '3',\n",
       " '4',\n",
       " '5',\n",
       " '6',\n",
       " '7',\n",
       " '8',\n",
       " '9',\n",
       " ':',\n",
       " ';',\n",
       " '=',\n",
       " '?',\n",
       " 'A',\n",
       " 'B',\n",
       " 'C',\n",
       " 'D',\n",
       " 'E',\n",
       " 'F',\n",
       " 'G',\n",
       " 'H',\n",
       " 'I',\n",
       " 'J',\n",
       " 'K',\n",
       " 'L',\n",
       " 'M',\n",
       " 'N',\n",
       " 'O',\n",
       " 'P',\n",
       " 'Q',\n",
       " 'R',\n",
       " 'S',\n",
       " 'T',\n",
       " 'U',\n",
       " 'V',\n",
       " 'W',\n",
       " 'X',\n",
       " 'Y',\n",
       " 'Z',\n",
       " 'a',\n",
       " 'b',\n",
       " 'c',\n",
       " 'd',\n",
       " 'e',\n",
       " 'f',\n",
       " 'g',\n",
       " 'h',\n",
       " 'i',\n",
       " 'j',\n",
       " 'k',\n",
       " 'l',\n",
       " 'm',\n",
       " 'n',\n",
       " 'o',\n",
       " 'p',\n",
       " 'q',\n",
       " 'r',\n",
       " 's',\n",
       " 't',\n",
       " 'u',\n",
       " 'v',\n",
       " 'w',\n",
       " 'x',\n",
       " 'y',\n",
       " 'z',\n",
       " '\\xa0',\n",
       " '¤',\n",
       " '©',\n",
       " 'ª',\n",
       " '»',\n",
       " '¿',\n",
       " 'Ã',\n",
       " 'ï']"
      ]
     },
     "execution_count": 9,
     "metadata": {},
     "output_type": "execute_result"
    }
   ],
   "source": [
    "# 创建 2个字典，第一个 char : id , 第二个 id : char\n",
    "\n",
    "# 对不同的字符进行排序\n",
    "sorted_unique_chars = sorted(unique_chars)\n",
    "\n",
    "sorted_unique_chars"
   ]
  },
  {
   "cell_type": "code",
   "execution_count": 10,
   "id": "12ceb25d",
   "metadata": {},
   "outputs": [],
   "source": [
    "char_to_id = {c : i for i, c in enumerate(sorted_unique_chars)}\n",
    "\n",
    "id_to_char = {i : c for i, c in enumerate(sorted_unique_chars)}"
   ]
  },
  {
   "cell_type": "code",
   "execution_count": 11,
   "id": "0a979e0c",
   "metadata": {
    "scrolled": true
   },
   "outputs": [
    {
     "data": {
      "text/plain": [
       "{'\\n': 0,\n",
       " '\\r': 1,\n",
       " ' ': 2,\n",
       " '!': 3,\n",
       " '\"': 4,\n",
       " \"'\": 5,\n",
       " '(': 6,\n",
       " ')': 7,\n",
       " '*': 8,\n",
       " ',': 9,\n",
       " '-': 10,\n",
       " '.': 11,\n",
       " '/': 12,\n",
       " '0': 13,\n",
       " '1': 14,\n",
       " '2': 15,\n",
       " '3': 16,\n",
       " '4': 17,\n",
       " '5': 18,\n",
       " '6': 19,\n",
       " '7': 20,\n",
       " '8': 21,\n",
       " '9': 22,\n",
       " ':': 23,\n",
       " ';': 24,\n",
       " '=': 25,\n",
       " '?': 26,\n",
       " 'A': 27,\n",
       " 'B': 28,\n",
       " 'C': 29,\n",
       " 'D': 30,\n",
       " 'E': 31,\n",
       " 'F': 32,\n",
       " 'G': 33,\n",
       " 'H': 34,\n",
       " 'I': 35,\n",
       " 'J': 36,\n",
       " 'K': 37,\n",
       " 'L': 38,\n",
       " 'M': 39,\n",
       " 'N': 40,\n",
       " 'O': 41,\n",
       " 'P': 42,\n",
       " 'Q': 43,\n",
       " 'R': 44,\n",
       " 'S': 45,\n",
       " 'T': 46,\n",
       " 'U': 47,\n",
       " 'V': 48,\n",
       " 'W': 49,\n",
       " 'X': 50,\n",
       " 'Y': 51,\n",
       " 'Z': 52,\n",
       " 'a': 53,\n",
       " 'b': 54,\n",
       " 'c': 55,\n",
       " 'd': 56,\n",
       " 'e': 57,\n",
       " 'f': 58,\n",
       " 'g': 59,\n",
       " 'h': 60,\n",
       " 'i': 61,\n",
       " 'j': 62,\n",
       " 'k': 63,\n",
       " 'l': 64,\n",
       " 'm': 65,\n",
       " 'n': 66,\n",
       " 'o': 67,\n",
       " 'p': 68,\n",
       " 'q': 69,\n",
       " 'r': 70,\n",
       " 's': 71,\n",
       " 't': 72,\n",
       " 'u': 73,\n",
       " 'v': 74,\n",
       " 'w': 75,\n",
       " 'x': 76,\n",
       " 'y': 77,\n",
       " 'z': 78,\n",
       " '\\xa0': 79,\n",
       " '¤': 80,\n",
       " '©': 81,\n",
       " 'ª': 82,\n",
       " '»': 83,\n",
       " '¿': 84,\n",
       " 'Ã': 85,\n",
       " 'ï': 86}"
      ]
     },
     "execution_count": 11,
     "metadata": {},
     "output_type": "execute_result"
    }
   ],
   "source": [
    "char_to_id"
   ]
  },
  {
   "cell_type": "code",
   "execution_count": 12,
   "id": "03fb0456",
   "metadata": {
    "scrolled": true
   },
   "outputs": [
    {
     "data": {
      "text/plain": [
       "{0: '\\n',\n",
       " 1: '\\r',\n",
       " 2: ' ',\n",
       " 3: '!',\n",
       " 4: '\"',\n",
       " 5: \"'\",\n",
       " 6: '(',\n",
       " 7: ')',\n",
       " 8: '*',\n",
       " 9: ',',\n",
       " 10: '-',\n",
       " 11: '.',\n",
       " 12: '/',\n",
       " 13: '0',\n",
       " 14: '1',\n",
       " 15: '2',\n",
       " 16: '3',\n",
       " 17: '4',\n",
       " 18: '5',\n",
       " 19: '6',\n",
       " 20: '7',\n",
       " 21: '8',\n",
       " 22: '9',\n",
       " 23: ':',\n",
       " 24: ';',\n",
       " 25: '=',\n",
       " 26: '?',\n",
       " 27: 'A',\n",
       " 28: 'B',\n",
       " 29: 'C',\n",
       " 30: 'D',\n",
       " 31: 'E',\n",
       " 32: 'F',\n",
       " 33: 'G',\n",
       " 34: 'H',\n",
       " 35: 'I',\n",
       " 36: 'J',\n",
       " 37: 'K',\n",
       " 38: 'L',\n",
       " 39: 'M',\n",
       " 40: 'N',\n",
       " 41: 'O',\n",
       " 42: 'P',\n",
       " 43: 'Q',\n",
       " 44: 'R',\n",
       " 45: 'S',\n",
       " 46: 'T',\n",
       " 47: 'U',\n",
       " 48: 'V',\n",
       " 49: 'W',\n",
       " 50: 'X',\n",
       " 51: 'Y',\n",
       " 52: 'Z',\n",
       " 53: 'a',\n",
       " 54: 'b',\n",
       " 55: 'c',\n",
       " 56: 'd',\n",
       " 57: 'e',\n",
       " 58: 'f',\n",
       " 59: 'g',\n",
       " 60: 'h',\n",
       " 61: 'i',\n",
       " 62: 'j',\n",
       " 63: 'k',\n",
       " 64: 'l',\n",
       " 65: 'm',\n",
       " 66: 'n',\n",
       " 67: 'o',\n",
       " 68: 'p',\n",
       " 69: 'q',\n",
       " 70: 'r',\n",
       " 71: 's',\n",
       " 72: 't',\n",
       " 73: 'u',\n",
       " 74: 'v',\n",
       " 75: 'w',\n",
       " 76: 'x',\n",
       " 77: 'y',\n",
       " 78: 'z',\n",
       " 79: '\\xa0',\n",
       " 80: '¤',\n",
       " 81: '©',\n",
       " 82: 'ª',\n",
       " 83: '»',\n",
       " 84: '¿',\n",
       " 85: 'Ã',\n",
       " 86: 'ï'}"
      ]
     },
     "execution_count": 12,
     "metadata": {},
     "output_type": "execute_result"
    }
   ],
   "source": [
    "id_to_char"
   ]
  },
  {
   "cell_type": "code",
   "execution_count": 13,
   "id": "cce485ca",
   "metadata": {},
   "outputs": [
    {
     "data": {
      "text/plain": [
       "3258246"
      ]
     },
     "execution_count": 13,
     "metadata": {},
     "output_type": "execute_result"
    }
   ],
   "source": [
    "# 将文本中所有字符全部替换为id\n",
    "\n",
    "dataset = [char_to_id[i] for i in content]\n",
    "\n",
    "len(dataset)"
   ]
  },
  {
   "cell_type": "code",
   "execution_count": 14,
   "id": "42d18cfe",
   "metadata": {},
   "outputs": [
    {
     "data": {
      "text/plain": [
       "[86, 83, 84, 4, 49, 57, 64, 64, 9, 2]"
      ]
     },
     "execution_count": 14,
     "metadata": {},
     "output_type": "execute_result"
    }
   ],
   "source": [
    "dataset[:10]"
   ]
  },
  {
   "cell_type": "code",
   "execution_count": 15,
   "id": "68c8ba8e",
   "metadata": {},
   "outputs": [
    {
     "name": "stdout",
     "output_type": "stream",
     "text": [
      "总的字符集数量： 3258246\n"
     ]
    }
   ],
   "source": [
    "# 构造特征数据集和标签集\n",
    "\n",
    "dataset_size = len(dataset)\n",
    "\n",
    "print(\"总的字符集数量：\", dataset_size)"
   ]
  },
  {
   "cell_type": "code",
   "execution_count": 16,
   "id": "d8033861",
   "metadata": {},
   "outputs": [],
   "source": [
    "# 序列长度\n",
    "\n",
    "SEQ_LEN = 10"
   ]
  },
  {
   "cell_type": "code",
   "execution_count": 17,
   "id": "2d1a2315",
   "metadata": {},
   "outputs": [],
   "source": [
    "# 初始化特征数据集和标签集\n",
    "X = []\n",
    "y = []\n",
    "\n",
    "for i in np.arange(0, dataset_size - SEQ_LEN, step=1):\n",
    "    seq = dataset[i : i+SEQ_LEN] # 序列\n",
    "    lab = dataset[i+SEQ_LEN] # 标签\n",
    "    # 添加到X和y中\n",
    "    X.append(seq)\n",
    "    y.append(lab)"
   ]
  },
  {
   "cell_type": "code",
   "execution_count": 18,
   "id": "95a59dcd",
   "metadata": {},
   "outputs": [
    {
     "data": {
      "text/plain": [
       "(3258236, 10)"
      ]
     },
     "execution_count": 18,
     "metadata": {},
     "output_type": "execute_result"
    }
   ],
   "source": [
    "# 统计X中的元素数量\n",
    "\n",
    "X = np.array(X)\n",
    "\n",
    "X.shape"
   ]
  },
  {
   "cell_type": "code",
   "execution_count": 19,
   "id": "3bdefc20",
   "metadata": {},
   "outputs": [
    {
     "data": {
      "text/plain": [
       "array([[86, 83, 84,  4, 49, 57, 64, 64,  9,  2],\n",
       "       [83, 84,  4, 49, 57, 64, 64,  9,  2, 42],\n",
       "       [84,  4, 49, 57, 64, 64,  9,  2, 42, 70],\n",
       "       [ 4, 49, 57, 64, 64,  9,  2, 42, 70, 61],\n",
       "       [49, 57, 64, 64,  9,  2, 42, 70, 61, 66]])"
      ]
     },
     "execution_count": 19,
     "metadata": {},
     "output_type": "execute_result"
    }
   ],
   "source": [
    "# 显示前5个序列\n",
    "\n",
    "X[:5, :]"
   ]
  },
  {
   "cell_type": "code",
   "execution_count": 20,
   "id": "088d020c",
   "metadata": {},
   "outputs": [
    {
     "data": {
      "text/plain": [
       "(3258236,)"
      ]
     },
     "execution_count": 20,
     "metadata": {},
     "output_type": "execute_result"
    }
   ],
   "source": [
    "# 统计y中的元素数量\n",
    "\n",
    "y = np.array(y)\n",
    "\n",
    "y.shape"
   ]
  },
  {
   "cell_type": "code",
   "execution_count": 21,
   "id": "b457e0e8",
   "metadata": {},
   "outputs": [
    {
     "data": {
      "text/plain": [
       "array([42, 70, 61, 66, 55])"
      ]
     },
     "execution_count": 21,
     "metadata": {},
     "output_type": "execute_result"
    }
   ],
   "source": [
    "# 显示前5个序列\n",
    "\n",
    "y[:5]"
   ]
  },
  {
   "cell_type": "code",
   "execution_count": 22,
   "id": "dd78afba",
   "metadata": {},
   "outputs": [],
   "source": [
    "# 数据归一化\n",
    "\n",
    "X = X / unique_chars_length"
   ]
  },
  {
   "cell_type": "code",
   "execution_count": 23,
   "id": "929fd94e",
   "metadata": {},
   "outputs": [
    {
     "data": {
      "text/plain": [
       "(3258236, 10, 1)"
      ]
     },
     "execution_count": 23,
     "metadata": {},
     "output_type": "execute_result"
    }
   ],
   "source": [
    "# 数据reshape，格式：(batch_size, seq_len, features)\n",
    "\n",
    "X = X.reshape(X.shape[0], SEQ_LEN, 1)\n",
    "\n",
    "X.shape"
   ]
  },
  {
   "cell_type": "code",
   "execution_count": 24,
   "id": "c2e2b977",
   "metadata": {},
   "outputs": [
    {
     "data": {
      "text/plain": [
       "(3258236, 86)"
      ]
     },
     "execution_count": 24,
     "metadata": {},
     "output_type": "execute_result"
    }
   ],
   "source": [
    "# 标签集y进行One_hot转换\n",
    "\n",
    "y = tf.keras.utils.to_categorical(y)\n",
    "\n",
    "y.shape"
   ]
  },
  {
   "cell_type": "markdown",
   "id": "a365e340",
   "metadata": {},
   "source": [
    "### 第3步：模型搭建"
   ]
  },
  {
   "cell_type": "code",
   "execution_count": 25,
   "id": "efb8951c",
   "metadata": {},
   "outputs": [],
   "source": [
    "model = Sequential([\n",
    "    layers.LSTM(units=800, input_shape=(SEQ_LEN, 1), return_sequences=True),\n",
    "    layers.Dropout(0.3),\n",
    "    layers.LSTM(units=800, return_sequences=True),\n",
    "    layers.Dropout(0.2),\n",
    "    layers.LSTM(units=800),\n",
    "    layers.Dropout(0.2),\n",
    "    layers.Dense(y.shape[1], activation='softmax')\n",
    "])"
   ]
  },
  {
   "cell_type": "code",
   "execution_count": 26,
   "id": "50fa8e10",
   "metadata": {},
   "outputs": [],
   "source": [
    "# 定义 callbacks\n",
    "\n",
    "# 1 ModelCheckpoint\n",
    "\n",
    "file_path = \"novel_model_weights.htf5\"\n",
    "\n",
    "checkpoint_callback = tf.keras.callbacks.ModelCheckpoint(filepath=file_path, monitor='loss', verbose=1,\n",
    "                                                         mode='min', save_best_only=True, save_weights_only=True)"
   ]
  },
  {
   "cell_type": "markdown",
   "id": "531f826f",
   "metadata": {},
   "source": [
    "### 第4步：模型编译、训练"
   ]
  },
  {
   "cell_type": "code",
   "execution_count": 27,
   "id": "e696a03c",
   "metadata": {},
   "outputs": [],
   "source": [
    "model.compile(optimizer='adam',\n",
    "              loss='categorical_crossentropy')"
   ]
  },
  {
   "cell_type": "code",
   "execution_count": 28,
   "id": "19f69d25",
   "metadata": {
    "scrolled": true
   },
   "outputs": [
    {
     "name": "stdout",
     "output_type": "stream",
     "text": [
      "Epoch 1/30\n",
      "25455/25455 [==============================] - 439s 17ms/step - loss: 2.0562\n",
      "\n",
      "Epoch 00001: loss improved from inf to 2.05620, saving model to novel_model_weights.htf5\n",
      "Epoch 2/30\n",
      "25455/25455 [==============================] - 490s 19ms/step - loss: 1.5865\n",
      "\n",
      "Epoch 00002: loss improved from 2.05620 to 1.58647, saving model to novel_model_weights.htf5\n",
      "Epoch 3/30\n",
      "25455/25455 [==============================] - 481s 19ms/step - loss: 1.4634\n",
      "\n",
      "Epoch 00003: loss improved from 1.58647 to 1.46337, saving model to novel_model_weights.htf5\n",
      "Epoch 4/30\n",
      "25455/25455 [==============================] - 433s 17ms/step - loss: 1.3964\n",
      "\n",
      "Epoch 00004: loss improved from 1.46337 to 1.39644, saving model to novel_model_weights.htf5\n",
      "Epoch 5/30\n",
      "25455/25455 [==============================] - 478s 19ms/step - loss: 1.3512\n",
      "\n",
      "Epoch 00005: loss improved from 1.39644 to 1.35117, saving model to novel_model_weights.htf5\n",
      "Epoch 6/30\n",
      "25455/25455 [==============================] - 453s 18ms/step - loss: 1.3186\n",
      "\n",
      "Epoch 00006: loss improved from 1.35117 to 1.31858, saving model to novel_model_weights.htf5\n",
      "Epoch 7/30\n",
      "25455/25455 [==============================] - 477s 19ms/step - loss: 1.2913\n",
      "\n",
      "Epoch 00007: loss improved from 1.31858 to 1.29128, saving model to novel_model_weights.htf5\n",
      "Epoch 8/30\n",
      "25455/25455 [==============================] - 478s 19ms/step - loss: 1.2696\n",
      "\n",
      "Epoch 00008: loss improved from 1.29128 to 1.26958, saving model to novel_model_weights.htf5\n",
      "Epoch 9/30\n",
      "25455/25455 [==============================] - 456s 18ms/step - loss: 1.2506\n",
      "\n",
      "Epoch 00009: loss improved from 1.26958 to 1.25057, saving model to novel_model_weights.htf5\n",
      "Epoch 10/30\n",
      "25455/25455 [==============================] - 482s 19ms/step - loss: 1.2343\n",
      "\n",
      "Epoch 00010: loss improved from 1.25057 to 1.23430, saving model to novel_model_weights.htf5\n",
      "Epoch 11/30\n",
      "25455/25455 [==============================] - 489s 19ms/step - loss: 1.2199\n",
      "\n",
      "Epoch 00011: loss improved from 1.23430 to 1.21988, saving model to novel_model_weights.htf5\n",
      "Epoch 12/30\n",
      "25455/25455 [==============================] - 396s 16ms/step - loss: 1.2068\n",
      "\n",
      "Epoch 00012: loss improved from 1.21988 to 1.20681, saving model to novel_model_weights.htf5\n",
      "Epoch 13/30\n",
      "25455/25455 [==============================] - 295s 12ms/step - loss: 1.1951\n",
      "\n",
      "Epoch 00013: loss improved from 1.20681 to 1.19506, saving model to novel_model_weights.htf5\n",
      "Epoch 14/30\n",
      "25455/25455 [==============================] - 298s 12ms/step - loss: 1.1844\n",
      "\n",
      "Epoch 00014: loss improved from 1.19506 to 1.18439, saving model to novel_model_weights.htf5\n",
      "Epoch 15/30\n",
      "25455/25455 [==============================] - 301s 12ms/step - loss: 1.1741\n",
      "\n",
      "Epoch 00015: loss improved from 1.18439 to 1.17413, saving model to novel_model_weights.htf5\n",
      "Epoch 16/30\n",
      "25455/25455 [==============================] - 301s 12ms/step - loss: 1.1654\n",
      "\n",
      "Epoch 00016: loss improved from 1.17413 to 1.16536, saving model to novel_model_weights.htf5\n",
      "Epoch 17/30\n",
      "25455/25455 [==============================] - 298s 12ms/step - loss: 1.1570\n",
      "\n",
      "Epoch 00017: loss improved from 1.16536 to 1.15703, saving model to novel_model_weights.htf5\n",
      "Epoch 18/30\n",
      "25455/25455 [==============================] - 296s 12ms/step - loss: 1.1486\n",
      "\n",
      "Epoch 00018: loss improved from 1.15703 to 1.14862, saving model to novel_model_weights.htf5\n",
      "Epoch 19/30\n",
      "25455/25455 [==============================] - 297s 12ms/step - loss: 1.1413\n",
      "\n",
      "Epoch 00019: loss improved from 1.14862 to 1.14132, saving model to novel_model_weights.htf5\n",
      "Epoch 20/30\n",
      "25455/25455 [==============================] - 296s 12ms/step - loss: 1.1341\n",
      "\n",
      "Epoch 00020: loss improved from 1.14132 to 1.13405, saving model to novel_model_weights.htf5\n",
      "Epoch 21/30\n",
      "25455/25455 [==============================] - 297s 12ms/step - loss: 1.1270\n",
      "\n",
      "Epoch 00021: loss improved from 1.13405 to 1.12705, saving model to novel_model_weights.htf5\n",
      "Epoch 22/30\n",
      "25455/25455 [==============================] - 295s 12ms/step - loss: 1.1202\n",
      "\n",
      "Epoch 00022: loss improved from 1.12705 to 1.12018, saving model to novel_model_weights.htf5\n",
      "Epoch 23/30\n",
      "25455/25455 [==============================] - 301s 12ms/step - loss: 1.1138\n",
      "\n",
      "Epoch 00023: loss improved from 1.12018 to 1.11383, saving model to novel_model_weights.htf5\n",
      "Epoch 24/30\n",
      "25455/25455 [==============================] - 298s 12ms/step - loss: 1.1079\n",
      "\n",
      "Epoch 00024: loss improved from 1.11383 to 1.10787, saving model to novel_model_weights.htf5\n",
      "Epoch 25/30\n",
      "25455/25455 [==============================] - 299s 12ms/step - loss: 1.1024\n",
      "\n",
      "Epoch 00025: loss improved from 1.10787 to 1.10243, saving model to novel_model_weights.htf5\n",
      "Epoch 26/30\n",
      "25455/25455 [==============================] - 298s 12ms/step - loss: 1.0963\n",
      "\n",
      "Epoch 00026: loss improved from 1.10243 to 1.09629, saving model to novel_model_weights.htf5\n",
      "Epoch 27/30\n",
      "25455/25455 [==============================] - 298s 12ms/step - loss: 1.0920\n",
      "\n",
      "Epoch 00027: loss improved from 1.09629 to 1.09197, saving model to novel_model_weights.htf5\n",
      "Epoch 28/30\n",
      "25455/25455 [==============================] - 296s 12ms/step - loss: 1.3651\n",
      "\n",
      "Epoch 00028: loss did not improve from 1.09197\n",
      "Epoch 29/30\n",
      "25455/25455 [==============================] - 295s 12ms/step - loss: 1.0875\n",
      "\n",
      "Epoch 00029: loss improved from 1.09197 to 1.08751, saving model to novel_model_weights.htf5\n",
      "Epoch 30/30\n",
      "25455/25455 [==============================] - 299s 12ms/step - loss: 1.1038\n",
      "\n",
      "Epoch 00030: loss did not improve from 1.08751\n"
     ]
    }
   ],
   "source": [
    "history = model.fit(X, y, epochs=30, batch_size=128, callbacks=[checkpoint_callback])"
   ]
  },
  {
   "cell_type": "markdown",
   "id": "991abbf4",
   "metadata": {},
   "source": [
    "### 第5步：模型保存"
   ]
  },
  {
   "cell_type": "code",
   "execution_count": 29,
   "id": "d0635b3c",
   "metadata": {},
   "outputs": [],
   "source": [
    "model.save(\"novel_best_model.h5\") # 保存模型"
   ]
  },
  {
   "cell_type": "code",
   "execution_count": 30,
   "id": "9e8d4126",
   "metadata": {},
   "outputs": [],
   "source": [
    "model = tf.keras.models.load_model(\"novel_best_model.h5\") # 加载模型"
   ]
  },
  {
   "cell_type": "markdown",
   "id": "2e7931da",
   "metadata": {},
   "source": [
    "### 第6步：模型预测"
   ]
  },
  {
   "cell_type": "code",
   "execution_count": 31,
   "id": "06ca6158",
   "metadata": {},
   "outputs": [],
   "source": [
    "def prediction(model, sample):\n",
    "    s = [] # 保存每个字符对应的id\n",
    "    for c in sample:\n",
    "        c_to_id = char_to_id[c] # 字符映射到对应的索引 id\n",
    "        s.append(c_to_id) # 保存id\n",
    "    #print(\"原始的字符sample：\\n\", sample)\n",
    "    #print(\"转换后的sample：\\n\", s)\n",
    "    \n",
    "    t = s # 保存一份s\n",
    "    \n",
    "    for i in range(100):\n",
    "        X = np.reshape(t, (1, SEQ_LEN, 1)) # shape转换，为模型输入shape\n",
    "        X = X / unique_chars_length # 归一化\n",
    "\n",
    "        # 模型预测\n",
    "        pred = model.predict(X, verbose=1)\n",
    "\n",
    "        # 预测结果中最大概率值索引\n",
    "        index = np.argmax(pred)\n",
    "\n",
    "        # 根据索引找到对应的字符\n",
    "        match_char = id_to_char[index] # 根据索引获取对应的字符\n",
    "\n",
    "        print(\"预测字符：\", match_char)\n",
    "        \n",
    "        s.append(index) # 将新的预测结果保存\n",
    "\n",
    "        t = s[i : i+SEQ_LEN] # 截取下一个输入字符序列\n",
    "        print(\"{}轮，t : {}\".format(i, t)) # 打印信息\n",
    "        \n",
    "    new_chars = ''.join([id_to_char[i] for i in s]) # 将列表中的每个字符进行拼接\n",
    "    \n",
    "    return new_chars"
   ]
  },
  {
   "cell_type": "markdown",
   "id": "b6c55149",
   "metadata": {},
   "source": [
    "##### 测试案例"
   ]
  },
  {
   "cell_type": "code",
   "execution_count": 32,
   "id": "dd74a4ff",
   "metadata": {},
   "outputs": [
    {
     "name": "stdout",
     "output_type": "stream",
     "text": [
      "1/1 [==============================] - 1s 549ms/step\n",
      "预测字符：  \n",
      "0轮，t : [46, 67, 65, 65, 77, 2, 71, 53, 61, 56]\n",
      "1/1 [==============================] - 0s 9ms/step\n",
      "预测字符：  \n",
      "1轮，t : [67, 65, 65, 77, 2, 71, 53, 61, 56, 2]\n",
      "1/1 [==============================] - 0s 8ms/step\n",
      "预测字符： t\n",
      "2轮，t : [65, 65, 77, 2, 71, 53, 61, 56, 2, 2]\n",
      "1/1 [==============================] - 0s 9ms/step\n",
      "预测字符： t\n",
      "3轮，t : [65, 77, 2, 71, 53, 61, 56, 2, 2, 72]\n",
      "1/1 [==============================] - 0s 9ms/step\n",
      "预测字符： h\n",
      "4轮，t : [77, 2, 71, 53, 61, 56, 2, 2, 72, 72]\n",
      "1/1 [==============================] - 0s 8ms/step\n",
      "预测字符： r\n",
      "5轮，t : [2, 71, 53, 61, 56, 2, 2, 72, 72, 60]\n",
      "1/1 [==============================] - 0s 8ms/step\n",
      "预测字符： g\n",
      "6轮，t : [71, 53, 61, 56, 2, 2, 72, 72, 60, 70]\n",
      "1/1 [==============================] - 0s 9ms/step\n",
      "预测字符： l\n",
      "7轮，t : [53, 61, 56, 2, 2, 72, 72, 60, 70, 59]\n",
      "1/1 [==============================] - 0s 8ms/step\n",
      "预测字符： i\n",
      "8轮，t : [61, 56, 2, 2, 72, 72, 60, 70, 59, 64]\n",
      "1/1 [==============================] - 0s 8ms/step\n",
      "预测字符： e\n",
      "9轮，t : [56, 2, 2, 72, 72, 60, 70, 59, 64, 61]\n",
      "1/1 [==============================] - 0s 8ms/step\n",
      "预测字符： n\n",
      "10轮，t : [2, 2, 72, 72, 60, 70, 59, 64, 61, 57]\n",
      "1/1 [==============================] - 0s 9ms/step\n",
      "预测字符： s\n",
      "11轮，t : [2, 72, 72, 60, 70, 59, 64, 61, 57, 66]\n",
      "1/1 [==============================] - 0s 8ms/step\n",
      "预测字符： s\n",
      "12轮，t : [72, 72, 60, 70, 59, 64, 61, 57, 66, 71]\n",
      "1/1 [==============================] - 0s 8ms/step\n",
      "预测字符：  \n",
      "13轮，t : [72, 60, 70, 59, 64, 61, 57, 66, 71, 71]\n",
      "1/1 [==============================] - 0s 9ms/step\n",
      "预测字符：  \n",
      "14轮，t : [60, 70, 59, 64, 61, 57, 66, 71, 71, 2]\n",
      "1/1 [==============================] - 0s 9ms/step\n",
      "预测字符： w\n",
      "15轮，t : [70, 59, 64, 61, 57, 66, 71, 71, 2, 2]\n",
      "1/1 [==============================] - 0s 9ms/step\n",
      "预测字符： w\n",
      "16轮，t : [59, 64, 61, 57, 66, 71, 71, 2, 2, 75]\n",
      "1/1 [==============================] - 0s 9ms/step\n",
      "预测字符： h\n",
      "17轮，t : [64, 61, 57, 66, 71, 71, 2, 2, 75, 75]\n",
      "1/1 [==============================] - 0s 9ms/step\n",
      "预测字符：  \n",
      "18轮，t : [61, 57, 66, 71, 71, 2, 2, 75, 75, 60]\n",
      "1/1 [==============================] - 0s 9ms/step\n",
      "预测字符： n\n",
      "19轮，t : [57, 66, 71, 71, 2, 2, 75, 75, 60, 2]\n",
      "1/1 [==============================] - 0s 8ms/step\n",
      "预测字符： t\n",
      "20轮，t : [66, 71, 71, 2, 2, 75, 75, 60, 2, 66]\n",
      "1/1 [==============================] - 0s 8ms/step\n",
      "预测字符： o\n",
      "21轮，t : [71, 71, 2, 2, 75, 75, 60, 2, 66, 72]\n",
      "1/1 [==============================] - 0s 8ms/step\n",
      "预测字符： r\n",
      "22轮，t : [71, 2, 2, 75, 75, 60, 2, 66, 72, 67]\n",
      "1/1 [==============================] - 0s 8ms/step\n",
      "预测字符： s\n",
      "23轮，t : [2, 2, 75, 75, 60, 2, 66, 72, 67, 70]\n",
      "1/1 [==============================] - 0s 8ms/step\n",
      "预测字符： e\n",
      "24轮，t : [2, 75, 75, 60, 2, 66, 72, 67, 70, 71]\n",
      "1/1 [==============================] - 0s 8ms/step\n",
      "预测字符： e\n",
      "25轮，t : [75, 75, 60, 2, 66, 72, 67, 70, 71, 57]\n",
      "1/1 [==============================] - 0s 8ms/step\n",
      "预测字符： d\n",
      "26轮，t : [75, 60, 2, 66, 72, 67, 70, 71, 57, 57]\n",
      "1/1 [==============================] - 0s 8ms/step\n",
      "预测字符：  \n",
      "27轮，t : [60, 2, 66, 72, 67, 70, 71, 57, 57, 56]\n",
      "1/1 [==============================] - 0s 8ms/step\n",
      "预测字符： n\n",
      "28轮，t : [2, 66, 72, 67, 70, 71, 57, 57, 56, 2]\n",
      "1/1 [==============================] - 0s 8ms/step\n",
      "预测字符： h\n",
      "29轮，t : [66, 72, 67, 70, 71, 57, 57, 56, 2, 66]\n",
      "1/1 [==============================] - 0s 8ms/step\n",
      "预测字符： o\n",
      "30轮，t : [72, 67, 70, 71, 57, 57, 56, 2, 66, 60]\n",
      "1/1 [==============================] - 0s 8ms/step\n",
      "预测字符： g\n",
      "31轮，t : [67, 70, 71, 57, 57, 56, 2, 66, 60, 67]\n",
      "1/1 [==============================] - 0s 8ms/step\n",
      "预测字符： e\n",
      "32轮，t : [70, 71, 57, 57, 56, 2, 66, 60, 67, 59]\n",
      "1/1 [==============================] - 0s 8ms/step\n",
      "预测字符： l\n",
      "33轮，t : [71, 57, 57, 56, 2, 66, 60, 67, 59, 57]\n",
      "1/1 [==============================] - 0s 9ms/step\n",
      "预测字符： a\n",
      "34轮，t : [57, 57, 56, 2, 66, 60, 67, 59, 57, 64]\n",
      "1/1 [==============================] - 0s 8ms/step\n",
      "预测字符： m\n",
      "35轮，t : [57, 56, 2, 66, 60, 67, 59, 57, 64, 53]\n",
      "1/1 [==============================] - 0s 8ms/step\n",
      "预测字符： r\n",
      "36轮，t : [56, 2, 66, 60, 67, 59, 57, 64, 53, 65]\n",
      "1/1 [==============================] - 0s 8ms/step\n",
      "预测字符： s\n",
      "37轮，t : [2, 66, 60, 67, 59, 57, 64, 53, 65, 70]\n",
      "1/1 [==============================] - 0s 8ms/step\n",
      "预测字符： r\n",
      "38轮，t : [66, 60, 67, 59, 57, 64, 53, 65, 70, 71]\n",
      "1/1 [==============================] - 0s 8ms/step\n",
      "预测字符：  \n",
      "39轮，t : [60, 67, 59, 57, 64, 53, 65, 70, 71, 70]\n",
      "1/1 [==============================] - 0s 8ms/step\n",
      "预测字符： o\n",
      "40轮，t : [67, 59, 57, 64, 53, 65, 70, 71, 70, 2]\n",
      "1/1 [==============================] - 0s 8ms/step\n",
      "预测字符： a\n",
      "41轮，t : [59, 57, 64, 53, 65, 70, 71, 70, 2, 67]\n",
      "1/1 [==============================] - 0s 8ms/step\n",
      "预测字符： f\n",
      "42轮，t : [57, 64, 53, 65, 70, 71, 70, 2, 67, 53]\n",
      "1/1 [==============================] - 0s 8ms/step\n",
      "预测字符： s\n",
      "43轮，t : [64, 53, 65, 70, 71, 70, 2, 67, 53, 58]\n",
      "1/1 [==============================] - 0s 8ms/step\n",
      "预测字符： y\n",
      "44轮，t : [53, 65, 70, 71, 70, 2, 67, 53, 58, 71]\n",
      "1/1 [==============================] - 0s 8ms/step\n",
      "预测字符：  \n",
      "45轮，t : [65, 70, 71, 70, 2, 67, 53, 58, 71, 77]\n",
      "1/1 [==============================] - 0s 8ms/step\n",
      "预测字符：  \n",
      "46轮，t : [70, 71, 70, 2, 67, 53, 58, 71, 77, 2]\n",
      "1/1 [==============================] - 0s 8ms/step\n",
      "预测字符： a\n",
      "47轮，t : [71, 70, 2, 67, 53, 58, 71, 77, 2, 2]\n",
      "1/1 [==============================] - 0s 9ms/step\n",
      "预测字符： I\n",
      "48轮，t : [70, 2, 67, 53, 58, 71, 77, 2, 2, 53]\n",
      "1/1 [==============================] - 0s 9ms/step\n",
      "预测字符： n\n",
      "49轮，t : [2, 67, 53, 58, 71, 77, 2, 2, 53, 35]\n",
      "1/1 [==============================] - 0s 14ms/step\n",
      "预测字符：  \n",
      "50轮，t : [67, 53, 58, 71, 77, 2, 2, 53, 35, 66]\n",
      "1/1 [==============================] - 0s 9ms/step\n",
      "预测字符： d\n",
      "51轮，t : [53, 58, 71, 77, 2, 2, 53, 35, 66, 2]\n",
      "1/1 [==============================] - 0s 8ms/step\n",
      "预测字符： t\n",
      "52轮，t : [58, 71, 77, 2, 2, 53, 35, 66, 2, 56]\n",
      "1/1 [==============================] - 0s 8ms/step\n",
      "预测字符： o\n",
      "53轮，t : [71, 77, 2, 2, 53, 35, 66, 2, 56, 72]\n",
      "1/1 [==============================] - 0s 8ms/step\n",
      "预测字符： t\n",
      "54轮，t : [77, 2, 2, 53, 35, 66, 2, 56, 72, 67]\n",
      "1/1 [==============================] - 0s 8ms/step\n",
      "预测字符： l\n",
      "55轮，t : [2, 2, 53, 35, 66, 2, 56, 72, 67, 72]\n",
      "1/1 [==============================] - 0s 8ms/step\n",
      "预测字符： s\n",
      "56轮，t : [2, 53, 35, 66, 2, 56, 72, 67, 72, 64]\n",
      "1/1 [==============================] - 0s 9ms/step\n",
      "预测字符： e\n",
      "57轮，t : [53, 35, 66, 2, 56, 72, 67, 72, 64, 71]\n",
      "1/1 [==============================] - 0s 8ms/step\n",
      "预测字符：  \n",
      "58轮，t : [35, 66, 2, 56, 72, 67, 72, 64, 71, 57]\n",
      "1/1 [==============================] - 0s 8ms/step\n",
      "预测字符：  \n",
      "59轮，t : [66, 2, 56, 72, 67, 72, 64, 71, 57, 2]\n",
      "1/1 [==============================] - 0s 9ms/step\n",
      "预测字符： a\n",
      "60轮，t : [2, 56, 72, 67, 72, 64, 71, 57, 2, 2]\n",
      "1/1 [==============================] - 0s 9ms/step\n",
      "预测字符： a\n",
      "61轮，t : [56, 72, 67, 72, 64, 71, 57, 2, 2, 53]\n",
      "1/1 [==============================] - 0s 8ms/step\n",
      "预测字符： n\n",
      "62轮，t : [72, 67, 72, 64, 71, 57, 2, 2, 53, 53]\n",
      "1/1 [==============================] - 0s 8ms/step\n",
      "预测字符： o\n",
      "63轮，t : [67, 72, 64, 71, 57, 2, 2, 53, 53, 66]\n",
      "1/1 [==============================] - 0s 8ms/step\n",
      "预测字符： u\n",
      "64轮，t : [72, 64, 71, 57, 2, 2, 53, 53, 66, 67]\n",
      "1/1 [==============================] - 0s 9ms/step\n",
      "预测字符： e\n",
      "65轮，t : [64, 71, 57, 2, 2, 53, 53, 66, 67, 73]\n",
      "1/1 [==============================] - 0s 8ms/step\n",
      "预测字符：  \n",
      "66轮，t : [71, 57, 2, 2, 53, 53, 66, 67, 73, 57]\n",
      "1/1 [==============================] - 0s 9ms/step\n",
      "预测字符： t\n",
      "67轮，t : [57, 2, 2, 53, 53, 66, 67, 73, 57, 2]\n",
      "1/1 [==============================] - 0s 8ms/step\n",
      "预测字符： a\n",
      "68轮，t : [2, 2, 53, 53, 66, 67, 73, 57, 2, 72]\n",
      "1/1 [==============================] - 0s 8ms/step\n",
      "预测字符： h\n",
      "69轮，t : [2, 53, 53, 66, 67, 73, 57, 2, 72, 53]\n",
      "1/1 [==============================] - 0s 8ms/step\n",
      "预测字符： l\n",
      "70轮，t : [53, 53, 66, 67, 73, 57, 2, 72, 53, 60]\n",
      "1/1 [==============================] - 0s 8ms/step\n",
      "预测字符： i\n",
      "71轮，t : [53, 66, 67, 73, 57, 2, 72, 53, 60, 64]\n",
      "1/1 [==============================] - 0s 8ms/step\n",
      "预测字符： e\n",
      "72轮，t : [66, 67, 73, 57, 2, 72, 53, 60, 64, 61]\n",
      "1/1 [==============================] - 0s 8ms/step\n",
      "预测字符： n\n",
      "73轮，t : [67, 73, 57, 2, 72, 53, 60, 64, 61, 57]\n",
      "1/1 [==============================] - 0s 8ms/step\n",
      "预测字符： s\n",
      "74轮，t : [73, 57, 2, 72, 53, 60, 64, 61, 57, 66]\n",
      "1/1 [==============================] - 0s 9ms/step\n",
      "预测字符： c\n",
      "75轮，t : [57, 2, 72, 53, 60, 64, 61, 57, 66, 71]\n",
      "1/1 [==============================] - 0s 8ms/step\n",
      "预测字符：  \n",
      "76轮，t : [2, 72, 53, 60, 64, 61, 57, 66, 71, 55]\n",
      "1/1 [==============================] - 0s 8ms/step\n",
      "预测字符： r\n",
      "77轮，t : [72, 53, 60, 64, 61, 57, 66, 71, 55, 2]\n",
      "1/1 [==============================] - 0s 9ms/step\n",
      "预测字符： w\n",
      "78轮，t : [53, 60, 64, 61, 57, 66, 71, 55, 2, 70]\n",
      "1/1 [==============================] - 0s 9ms/step\n",
      "预测字符： e\n",
      "79轮，t : [60, 64, 61, 57, 66, 71, 55, 2, 70, 75]\n",
      "1/1 [==============================] - 0s 9ms/step\n",
      "预测字符： i\n",
      "80轮，t : [64, 61, 57, 66, 71, 55, 2, 70, 75, 57]\n",
      "1/1 [==============================] - 0s 8ms/step\n",
      "预测字符： s\n",
      "81轮，t : [61, 57, 66, 71, 55, 2, 70, 75, 57, 61]\n",
      "1/1 [==============================] - 0s 8ms/step\n",
      "预测字符： l\n",
      "82轮，t : [57, 66, 71, 55, 2, 70, 75, 57, 61, 71]\n",
      "1/1 [==============================] - 0s 8ms/step\n",
      "预测字符：  \n",
      "83轮，t : [66, 71, 55, 2, 70, 75, 57, 61, 71, 64]\n",
      "1/1 [==============================] - 0s 8ms/step\n",
      "预测字符： e\n",
      "84轮，t : [71, 55, 2, 70, 75, 57, 61, 71, 64, 2]\n",
      "1/1 [==============================] - 0s 8ms/step\n",
      "预测字符： a\n",
      "85轮，t : [55, 2, 70, 75, 57, 61, 71, 64, 2, 57]\n",
      "1/1 [==============================] - 0s 8ms/step\n",
      "预测字符： x\n",
      "86轮，t : [2, 70, 75, 57, 61, 71, 64, 2, 57, 53]\n",
      "1/1 [==============================] - 0s 8ms/step\n",
      "预测字符： r\n",
      "87轮，t : [70, 75, 57, 61, 71, 64, 2, 57, 53, 76]\n",
      "1/1 [==============================] - 0s 8ms/step\n",
      "预测字符： s\n",
      "88轮，t : [75, 57, 61, 71, 64, 2, 57, 53, 76, 70]\n",
      "1/1 [==============================] - 0s 8ms/step\n",
      "预测字符：  \n",
      "89轮，t : [57, 61, 71, 64, 2, 57, 53, 76, 70, 71]\n",
      "1/1 [==============================] - 0s 8ms/step\n",
      "预测字符： e\n",
      "90轮，t : [61, 71, 64, 2, 57, 53, 76, 70, 71, 2]\n",
      "1/1 [==============================] - 0s 8ms/step\n",
      "预测字符： o\n",
      "91轮，t : [71, 64, 2, 57, 53, 76, 70, 71, 2, 57]\n",
      "1/1 [==============================] - 0s 9ms/step\n",
      "预测字符： v\n",
      "92轮，t : [64, 2, 57, 53, 76, 70, 71, 2, 57, 67]\n",
      "1/1 [==============================] - 0s 8ms/step\n",
      "预测字符： t\n",
      "93轮，t : [2, 57, 53, 76, 70, 71, 2, 57, 67, 74]\n",
      "1/1 [==============================] - 0s 9ms/step\n",
      "预测字符： i\n",
      "94轮，t : [57, 53, 76, 70, 71, 2, 57, 67, 74, 72]\n",
      "1/1 [==============================] - 0s 8ms/step\n",
      "预测字符：  \n",
      "95轮，t : [53, 76, 70, 71, 2, 57, 67, 74, 72, 61]\n",
      "1/1 [==============================] - 0s 12ms/step\n",
      "预测字符： n\n",
      "96轮，t : [76, 70, 71, 2, 57, 67, 74, 72, 61, 2]\n",
      "1/1 [==============================] - 0s 8ms/step\n",
      "预测字符： t\n",
      "97轮，t : [70, 71, 2, 57, 67, 74, 72, 61, 2, 66]\n",
      "1/1 [==============================] - 0s 9ms/step\n",
      "预测字符： o\n",
      "98轮，t : [71, 2, 57, 67, 74, 72, 61, 2, 66, 72]\n",
      "1/1 [==============================] - 0s 9ms/step\n",
      "预测字符： r\n",
      "99轮，t : [2, 57, 67, 74, 72, 61, 2, 66, 72, 67]\n"
     ]
    }
   ],
   "source": [
    "test1 = \"Tommy said\"\n",
    "\n",
    "resutl1 = prediction(model, test1)"
   ]
  },
  {
   "cell_type": "code",
   "execution_count": 33,
   "id": "9f925f1b",
   "metadata": {},
   "outputs": [
    {
     "data": {
      "text/plain": [
       "'Tommy said  tthrglienss  wwh ntorseed nhogelamrsr oafsy  aIn dtotlse  aanoue tahliensc rweisl eaxrs eovti ntor'"
      ]
     },
     "execution_count": 33,
     "metadata": {},
     "output_type": "execute_result"
    }
   ],
   "source": [
    "resutl1"
   ]
  },
  {
   "cell_type": "code",
   "execution_count": 34,
   "id": "1b44bbce",
   "metadata": {},
   "outputs": [
    {
     "name": "stdout",
     "output_type": "stream",
     "text": [
      "1/1 [==============================] - 0s 9ms/step\n",
      "预测字符：  \n",
      "0轮，t : [45, 53, 64, 64, 77, 2, 74, 57, 70, 77]\n",
      "1/1 [==============================] - 0s 9ms/step\n",
      "预测字符：  \n",
      "1轮，t : [53, 64, 64, 77, 2, 74, 57, 70, 77, 2]\n",
      "1/1 [==============================] - 0s 9ms/step\n",
      "预测字符： s\n",
      "2轮，t : [64, 64, 77, 2, 74, 57, 70, 77, 2, 2]\n",
      "1/1 [==============================] - 0s 8ms/step\n",
      "预测字符： a\n",
      "3轮，t : [64, 77, 2, 74, 57, 70, 77, 2, 2, 71]\n",
      "1/1 [==============================] - 0s 9ms/step\n",
      "预测字符： i\n",
      "4轮，t : [77, 2, 74, 57, 70, 77, 2, 2, 71, 53]\n",
      "1/1 [==============================] - 0s 9ms/step\n",
      "预测字符： d\n",
      "5轮，t : [2, 74, 57, 70, 77, 2, 2, 71, 53, 61]\n",
      "1/1 [==============================] - 0s 9ms/step\n",
      "预测字符： n\n",
      "6轮，t : [74, 57, 70, 77, 2, 2, 71, 53, 61, 56]\n",
      "1/1 [==============================] - 0s 9ms/step\n",
      "预测字符：  \n",
      "7轮，t : [57, 70, 77, 2, 2, 71, 53, 61, 56, 66]\n",
      "1/1 [==============================] - 0s 9ms/step\n",
      "预测字符： c\n",
      "8轮，t : [70, 77, 2, 2, 71, 53, 61, 56, 66, 2]\n",
      "1/1 [==============================] - 0s 9ms/step\n",
      "预测字符： a\n",
      "9轮，t : [77, 2, 2, 71, 53, 61, 56, 66, 2, 55]\n",
      "1/1 [==============================] - 0s 9ms/step\n",
      "预测字符： o\n",
      "10轮，t : [2, 2, 71, 53, 61, 56, 66, 2, 55, 53]\n",
      "1/1 [==============================] - 0s 9ms/step\n",
      "预测字符： r\n",
      "11轮，t : [2, 71, 53, 61, 56, 66, 2, 55, 53, 67]\n",
      "1/1 [==============================] - 0s 9ms/step\n",
      "预测字符： d\n",
      "12轮，t : [71, 53, 61, 56, 66, 2, 55, 53, 67, 70]\n",
      "1/1 [==============================] - 0s 8ms/step\n",
      "预测字符：  \n",
      "13轮，t : [53, 61, 56, 66, 2, 55, 53, 67, 70, 56]\n",
      "1/1 [==============================] - 0s 9ms/step\n",
      "预测字符： i\n",
      "14轮，t : [61, 56, 66, 2, 55, 53, 67, 70, 56, 2]\n",
      "1/1 [==============================] - 0s 9ms/step\n",
      "预测字符： a\n",
      "15轮，t : [56, 66, 2, 55, 53, 67, 70, 56, 2, 61]\n",
      "1/1 [==============================] - 0s 9ms/step\n",
      "预测字符： n\n",
      "16轮，t : [66, 2, 55, 53, 67, 70, 56, 2, 61, 53]\n",
      "1/1 [==============================] - 0s 9ms/step\n",
      "预测字符： d\n",
      "17轮，t : [2, 55, 53, 67, 70, 56, 2, 61, 53, 66]\n",
      "1/1 [==============================] - 0s 9ms/step\n",
      "预测字符： n\n",
      "18轮，t : [55, 53, 67, 70, 56, 2, 61, 53, 66, 56]\n",
      "1/1 [==============================] - 0s 8ms/step\n",
      "预测字符： s\n",
      "19轮，t : [53, 67, 70, 56, 2, 61, 53, 66, 56, 66]\n",
      "1/1 [==============================] - 0s 8ms/step\n",
      "预测字符： e\n",
      "20轮，t : [67, 70, 56, 2, 61, 53, 66, 56, 66, 71]\n",
      "1/1 [==============================] - 0s 8ms/step\n",
      "预测字符：  \n",
      "21轮，t : [70, 56, 2, 61, 53, 66, 56, 66, 71, 57]\n",
      "1/1 [==============================] - 0s 9ms/step\n",
      "预测字符： r\n",
      "22轮，t : [56, 2, 61, 53, 66, 56, 66, 71, 57, 2]\n",
      "1/1 [==============================] - 0s 9ms/step\n",
      "预测字符： c\n",
      "23轮，t : [2, 61, 53, 66, 56, 66, 71, 57, 2, 70]\n",
      "1/1 [==============================] - 0s 9ms/step\n",
      "预测字符： e\n",
      "24轮，t : [61, 53, 66, 56, 66, 71, 57, 2, 70, 55]\n",
      "1/1 [==============================] - 0s 12ms/step\n",
      "预测字符： p\n",
      "25轮，t : [53, 66, 56, 66, 71, 57, 2, 70, 55, 57]\n",
      "1/1 [==============================] - 0s 9ms/step\n",
      "预测字符： i\n",
      "26轮，t : [66, 56, 66, 71, 57, 2, 70, 55, 57, 68]\n",
      "1/1 [==============================] - 0s 9ms/step\n",
      "预测字符： a\n",
      "27轮，t : [56, 66, 71, 57, 2, 70, 55, 57, 68, 61]\n",
      "1/1 [==============================] - 0s 9ms/step\n",
      "预测字符： s\n",
      "28轮，t : [66, 71, 57, 2, 70, 55, 57, 68, 61, 53]\n",
      "1/1 [==============================] - 0s 9ms/step\n",
      "预测字符： l\n",
      "29轮，t : [71, 57, 2, 70, 55, 57, 68, 61, 53, 71]\n",
      "1/1 [==============================] - 0s 9ms/step\n",
      "预测字符：  \n",
      "30轮，t : [57, 2, 70, 55, 57, 68, 61, 53, 71, 64]\n",
      "1/1 [==============================] - 0s 9ms/step\n",
      "预测字符： e\n",
      "31轮，t : [2, 70, 55, 57, 68, 61, 53, 71, 64, 2]\n",
      "1/1 [==============================] - 0s 9ms/step\n",
      "预测字符： t\n",
      "32轮，t : [70, 55, 57, 68, 61, 53, 71, 64, 2, 57]\n",
      "1/1 [==============================] - 0s 9ms/step\n",
      "预测字符： x\n",
      "33轮，t : [55, 57, 68, 61, 53, 71, 64, 2, 57, 72]\n",
      "1/1 [==============================] - 0s 9ms/step\n",
      "预测字符： e\n",
      "34轮，t : [57, 68, 61, 53, 71, 64, 2, 57, 72, 76]\n",
      "1/1 [==============================] - 0s 9ms/step\n",
      "预测字符： a\n",
      "35轮，t : [68, 61, 53, 71, 64, 2, 57, 72, 76, 57]\n",
      "1/1 [==============================] - 0s 9ms/step\n",
      "预测字符： r\n",
      "36轮，t : [61, 53, 71, 64, 2, 57, 72, 76, 57, 53]\n",
      "1/1 [==============================] - 0s 9ms/step\n",
      "预测字符： t\n",
      "37轮，t : [53, 71, 64, 2, 57, 72, 76, 57, 53, 70]\n",
      "1/1 [==============================] - 0s 8ms/step\n",
      "预测字符： e\n",
      "38轮，t : [71, 64, 2, 57, 72, 76, 57, 53, 70, 72]\n",
      "1/1 [==============================] - 0s 9ms/step\n",
      "预测字符：  \n",
      "39轮，t : [64, 2, 57, 72, 76, 57, 53, 70, 72, 57]\n",
      "1/1 [==============================] - 0s 8ms/step\n",
      "预测字符： d\n",
      "40轮，t : [2, 57, 72, 76, 57, 53, 70, 72, 57, 2]\n",
      "1/1 [==============================] - 0s 8ms/step\n",
      "预测字符： t\n",
      "41轮，t : [57, 72, 76, 57, 53, 70, 72, 57, 2, 56]\n",
      "1/1 [==============================] - 0s 8ms/step\n",
      "预测字符： o\n",
      "42轮，t : [72, 76, 57, 53, 70, 72, 57, 2, 56, 72]\n",
      "1/1 [==============================] - 0s 8ms/step\n",
      "预测字符：  \n",
      "43轮，t : [76, 57, 53, 70, 72, 57, 2, 56, 72, 67]\n",
      "1/1 [==============================] - 0s 8ms/step\n",
      "预测字符： l\n",
      "44轮，t : [57, 53, 70, 72, 57, 2, 56, 72, 67, 2]\n",
      "1/1 [==============================] - 0s 8ms/step\n",
      "预测字符： o\n",
      "45轮，t : [53, 70, 72, 57, 2, 56, 72, 67, 2, 64]\n",
      "1/1 [==============================] - 0s 8ms/step\n",
      "预测字符： a\n",
      "46轮，t : [70, 72, 57, 2, 56, 72, 67, 2, 64, 67]\n",
      "1/1 [==============================] - 0s 9ms/step\n",
      "预测字符： v\n",
      "47轮，t : [72, 57, 2, 56, 72, 67, 2, 64, 67, 53]\n",
      "1/1 [==============================] - 0s 8ms/step\n",
      "预测字符： d\n",
      "48轮，t : [57, 2, 56, 72, 67, 2, 64, 67, 53, 74]\n",
      "1/1 [==============================] - 0s 8ms/step\n",
      "预测字符： h\n",
      "49轮，t : [2, 56, 72, 67, 2, 64, 67, 53, 74, 56]\n",
      "1/1 [==============================] - 0s 8ms/step\n",
      "预测字符：  \n",
      "50轮，t : [56, 72, 67, 2, 64, 67, 53, 74, 56, 60]\n",
      "1/1 [==============================] - 0s 8ms/step\n",
      "预测字符： l\n",
      "51轮，t : [72, 67, 2, 64, 67, 53, 74, 56, 60, 2]\n",
      "1/1 [==============================] - 0s 9ms/step\n",
      "预测字符： h\n",
      "52轮，t : [67, 2, 64, 67, 53, 74, 56, 60, 2, 64]\n",
      "1/1 [==============================] - 0s 8ms/step\n",
      "预测字符： e\n",
      "53轮，t : [2, 64, 67, 53, 74, 56, 60, 2, 64, 60]\n",
      "1/1 [==============================] - 0s 9ms/step\n",
      "预测字符： f\n",
      "54轮，t : [64, 67, 53, 74, 56, 60, 2, 64, 60, 57]\n",
      "1/1 [==============================] - 0s 9ms/step\n",
      "预测字符：  \n",
      "55轮，t : [67, 53, 74, 56, 60, 2, 64, 60, 57, 58]\n",
      "1/1 [==============================] - 0s 9ms/step\n",
      "预测字符： l\n",
      "56轮，t : [53, 74, 56, 60, 2, 64, 60, 57, 58, 2]\n",
      "1/1 [==============================] - 0s 8ms/step\n",
      "预测字符： o\n",
      "57轮，t : [74, 56, 60, 2, 64, 60, 57, 58, 2, 64]\n",
      "1/1 [==============================] - 0s 9ms/step\n",
      "预测字符： i\n",
      "58轮，t : [56, 60, 2, 64, 60, 57, 58, 2, 64, 67]\n",
      "1/1 [==============================] - 0s 8ms/step\n",
      "预测字符： o\n",
      "59轮，t : [60, 2, 64, 60, 57, 58, 2, 64, 67, 61]\n",
      "1/1 [==============================] - 0s 8ms/step\n",
      "预测字符： t\n",
      "60轮，t : [2, 64, 60, 57, 58, 2, 64, 67, 61, 67]\n",
      "1/1 [==============================] - 0s 8ms/step\n",
      "预测字符：  \n",
      "61轮，t : [64, 60, 57, 58, 2, 64, 67, 61, 67, 72]\n",
      "1/1 [==============================] - 0s 8ms/step\n",
      "预测字符： e\n",
      "62轮，t : [60, 57, 58, 2, 64, 67, 61, 67, 72, 2]\n",
      "1/1 [==============================] - 0s 8ms/step\n",
      "预测字符： a\n",
      "63轮，t : [57, 58, 2, 64, 67, 61, 67, 72, 2, 57]\n",
      "1/1 [==============================] - 0s 8ms/step\n",
      "预测字符： y\n",
      "64轮，t : [58, 2, 64, 67, 61, 67, 72, 2, 57, 53]\n",
      "1/1 [==============================] - 0s 8ms/step\n",
      "预测字符： c\n",
      "65轮，t : [2, 64, 67, 61, 67, 72, 2, 57, 53, 77]\n",
      "1/1 [==============================] - 0s 8ms/step\n",
      "预测字符： o\n",
      "66轮，t : [64, 67, 61, 67, 72, 2, 57, 53, 77, 55]\n",
      "1/1 [==============================] - 0s 8ms/step\n",
      "预测字符： r\n",
      "67轮，t : [67, 61, 67, 72, 2, 57, 53, 77, 55, 67]\n",
      "1/1 [==============================] - 0s 8ms/step\n",
      "预测字符： e\n",
      "68轮，t : [61, 67, 72, 2, 57, 53, 77, 55, 67, 70]\n",
      "1/1 [==============================] - 0s 9ms/step\n",
      "预测字符： y\n",
      "69轮，t : [67, 72, 2, 57, 53, 77, 55, 67, 70, 57]\n",
      "1/1 [==============================] - 0s 9ms/step\n",
      "预测字符： i\n",
      "70轮，t : [72, 2, 57, 53, 77, 55, 67, 70, 57, 77]\n",
      "1/1 [==============================] - 0s 9ms/step\n",
      "预测字符：  \n",
      "71轮，t : [2, 57, 53, 77, 55, 67, 70, 57, 77, 61]\n",
      "1/1 [==============================] - 0s 9ms/step\n",
      "预测字符： n\n",
      "72轮，t : [57, 53, 77, 55, 67, 70, 57, 77, 61, 2]\n",
      "1/1 [==============================] - 0s 8ms/step\n",
      "预测字符： a\n",
      "73轮，t : [53, 77, 55, 67, 70, 57, 77, 61, 2, 66]\n",
      "1/1 [==============================] - 0s 8ms/step\n",
      "预测字符： e\n",
      "74轮，t : [77, 55, 67, 70, 57, 77, 61, 2, 66, 53]\n",
      "1/1 [==============================] - 0s 8ms/step\n",
      "预测字符： t\n",
      "75轮，t : [55, 67, 70, 57, 77, 61, 2, 66, 53, 57]\n",
      "1/1 [==============================] - 0s 8ms/step\n",
      "预测字符：  \n",
      "76轮，t : [67, 70, 57, 77, 61, 2, 66, 53, 57, 72]\n",
      "1/1 [==============================] - 0s 8ms/step\n",
      "预测字符：  \n",
      "77轮，t : [70, 57, 77, 61, 2, 66, 53, 57, 72, 2]\n",
      "1/1 [==============================] - 0s 8ms/step\n",
      "预测字符： a\n",
      "78轮，t : [57, 77, 61, 2, 66, 53, 57, 72, 2, 2]\n",
      "1/1 [==============================] - 0s 9ms/step\n",
      "预测字符： t\n",
      "79轮，t : [77, 61, 2, 66, 53, 57, 72, 2, 2, 53]\n",
      "1/1 [==============================] - 0s 9ms/step\n",
      "预测字符： n\n",
      "80轮，t : [61, 2, 66, 53, 57, 72, 2, 2, 53, 72]\n",
      "1/1 [==============================] - 0s 8ms/step\n",
      "预测字符：  \n",
      "81轮，t : [2, 66, 53, 57, 72, 2, 2, 53, 72, 66]\n",
      "1/1 [==============================] - 0s 8ms/step\n",
      "预测字符： m\n",
      "82轮，t : [66, 53, 57, 72, 2, 2, 53, 72, 66, 2]\n",
      "1/1 [==============================] - 0s 8ms/step\n",
      "预测字符： t\n",
      "83轮，t : [53, 57, 72, 2, 2, 53, 72, 66, 2, 65]\n",
      "1/1 [==============================] - 0s 9ms/step\n",
      "预测字符： e\n",
      "84轮，t : [57, 72, 2, 2, 53, 72, 66, 2, 65, 72]\n",
      "1/1 [==============================] - 0s 9ms/step\n",
      "预测字符： s\n",
      "85轮，t : [72, 2, 2, 53, 72, 66, 2, 65, 72, 57]\n",
      "1/1 [==============================] - 0s 8ms/step\n",
      "预测字符： f\n",
      "86轮，t : [2, 2, 53, 72, 66, 2, 65, 72, 57, 71]\n",
      "1/1 [==============================] - 0s 9ms/step\n",
      "预测字符：  \n",
      "87轮，t : [2, 53, 72, 66, 2, 65, 72, 57, 71, 58]\n",
      "1/1 [==============================] - 0s 9ms/step\n",
      "预测字符： r\n",
      "88轮，t : [53, 72, 66, 2, 65, 72, 57, 71, 58, 2]\n",
      "1/1 [==============================] - 0s 8ms/step\n",
      "预测字符： o\n",
      "89轮，t : [72, 66, 2, 65, 72, 57, 71, 58, 2, 70]\n",
      "1/1 [==============================] - 0s 9ms/step\n",
      "预测字符： e\n",
      "90轮，t : [66, 2, 65, 72, 57, 71, 58, 2, 70, 67]\n",
      "1/1 [==============================] - 0s 8ms/step\n",
      "预测字符： o\n",
      "91轮，t : [2, 65, 72, 57, 71, 58, 2, 70, 67, 57]\n",
      "1/1 [==============================] - 0s 8ms/step\n",
      "预测字符： e\n",
      "92轮，t : [65, 72, 57, 71, 58, 2, 70, 67, 57, 67]\n",
      "1/1 [==============================] - 0s 8ms/step\n",
      "预测字符：  \n",
      "93轮，t : [72, 57, 71, 58, 2, 70, 67, 57, 67, 57]\n",
      "1/1 [==============================] - 0s 8ms/step\n",
      "预测字符： t\n",
      "94轮，t : [57, 71, 58, 2, 70, 67, 57, 67, 57, 2]\n",
      "1/1 [==============================] - 0s 9ms/step\n",
      "预测字符： a\n",
      "95轮，t : [71, 58, 2, 70, 67, 57, 67, 57, 2, 72]\n",
      "1/1 [==============================] - 0s 9ms/step\n",
      "预测字符： h\n",
      "96轮，t : [58, 2, 70, 67, 57, 67, 57, 2, 72, 53]\n",
      "1/1 [==============================] - 0s 8ms/step\n",
      "预测字符： k\n",
      "97轮，t : [2, 70, 67, 57, 67, 57, 2, 72, 53, 60]\n",
      "1/1 [==============================] - 0s 9ms/step\n",
      "预测字符： l\n",
      "98轮，t : [70, 67, 57, 67, 57, 2, 72, 53, 60, 63]\n",
      "1/1 [==============================] - 0s 9ms/step\n",
      "预测字符： e\n",
      "99轮，t : [67, 57, 67, 57, 2, 72, 53, 60, 63, 64]\n"
     ]
    }
   ],
   "source": [
    "test2 = \"Sally very\"\n",
    "\n",
    "result2 = prediction(model, test2)"
   ]
  },
  {
   "cell_type": "code",
   "execution_count": 35,
   "id": "b65f94cb",
   "metadata": {},
   "outputs": [
    {
     "data": {
      "text/plain": [
       "'Sally very  saidn caord iandnse rcepiasl etxearte dto loavdh lhef loiot eaycoreyi naet  atn mtesf roeoe tahkle'"
      ]
     },
     "execution_count": 35,
     "metadata": {},
     "output_type": "execute_result"
    }
   ],
   "source": [
    "result2"
   ]
  },
  {
   "cell_type": "code",
   "execution_count": null,
   "id": "478034a7",
   "metadata": {},
   "outputs": [],
   "source": []
  }
 ],
 "metadata": {
  "kernelspec": {
   "display_name": "Python 3",
   "language": "python",
   "name": "python3"
  },
  "language_info": {
   "codemirror_mode": {
    "name": "ipython",
    "version": 3
   },
   "file_extension": ".py",
   "mimetype": "text/x-python",
   "name": "python",
   "nbconvert_exporter": "python",
   "pygments_lexer": "ipython3",
   "version": "3.8.8"
  }
 },
 "nbformat": 4,
 "nbformat_minor": 5
}
